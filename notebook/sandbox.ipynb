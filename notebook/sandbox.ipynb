{
 "cells": [
  {
   "cell_type": "code",
   "execution_count": 2,
   "metadata": {
    "collapsed": true
   },
   "outputs": [],
   "source": [
    "import pandas as pd"
   ]
  },
  {
   "cell_type": "code",
   "execution_count": 4,
   "metadata": {
    "collapsed": false
   },
   "outputs": [
    {
     "name": "stdout",
     "output_type": "stream",
     "text": [
      "dataframe\n",
      "   c1  c2  out\n",
      "0   1  10   51\n",
      "1   2  11   52\n",
      "2   3  10   53\n",
      "3   1  11   51\n",
      "4   2  12   52\n",
      "ddf\n",
      "   c2  d1\n",
      "0  10   1\n",
      "1  10   2\n",
      "2  10   3\n",
      "3  11   1\n",
      "4  11   2\n",
      "5  11   3\n",
      "6  12   1\n",
      "7  12   2\n",
      "8  12   3\n"
     ]
    }
   ],
   "source": [
    "dcf = pd.DataFrame({'c1': [1, 2, 3, 1, 2], 'c2': [10, 11, 10, 11, 12], 'out': [51, 52, 53, 51, 52]})\n",
    "print('dataframe')\n",
    "print(dcf)\n",
    "\n",
    "ddf = df = pd.DataFrame({'d1': [1, 2, 3, 1, 2, 3, 1, 2, 3], 'c2': [10, 10, 10, 11, 11, 11, 12, 12, 12]})\n",
    "print('ddf')\n",
    "print(ddf)"
   ]
  },
  {
   "cell_type": "code",
   "execution_count": 19,
   "metadata": {
    "collapsed": false
   },
   "outputs": [
    {
     "data": {
      "text/plain": [
       "0    100.0\n",
       "1    200.0\n",
       "2      0.0\n",
       "3    100.0\n",
       "4    200.0\n",
       "Name: c1, dtype: float64"
      ]
     },
     "execution_count": 19,
     "metadata": {},
     "output_type": "execute_result"
    }
   ],
   "source": [
    "ddf.map(s2).fillna(0)"
   ]
  }
 ],
 "metadata": {
  "anaconda-cloud": {},
  "kernelspec": {
   "display_name": "Python [Root]",
   "language": "python",
   "name": "Python [Root]"
  },
  "language_info": {
   "codemirror_mode": {
    "name": "ipython",
    "version": 3
   },
   "file_extension": ".py",
   "mimetype": "text/x-python",
   "name": "python",
   "nbconvert_exporter": "python",
   "pygments_lexer": "ipython3",
   "version": "3.5.1"
  }
 },
 "nbformat": 4,
 "nbformat_minor": 0
}
