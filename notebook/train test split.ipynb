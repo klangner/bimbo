{
 "cells": [
  {
   "cell_type": "markdown",
   "metadata": {
    "collapsed": true
   },
   "source": [
    "# Train test split"
   ]
  },
  {
   "cell_type": "code",
   "execution_count": 4,
   "metadata": {
    "collapsed": false
   },
   "outputs": [],
   "source": [
    "import pandas as pd\n",
    "import numpy as np\n",
    "from sklearn.ensemble import RandomForestRegressor\n",
    "from sklearn.tree import DecisionTreeRegressor\n",
    "from sklearn.svm import SVR\n",
    "\n",
    "def rmsle(predicted, expected):\n",
    "    a = np.log(predicted+1)\n",
    "    b = np.log(expected+1)\n",
    "    c = np.power(a - b, 2)\n",
    "    return np.sqrt(c.sum()/len(expected))\n",
    "\n",
    "# rmsle(np.full(6, 3.0), np.full(6, 2.0))"
   ]
  },
  {
   "cell_type": "markdown",
   "metadata": {},
   "source": [
    "## Load datasets"
   ]
  },
  {
   "cell_type": "code",
   "execution_count": 2,
   "metadata": {
    "collapsed": false
   },
   "outputs": [
    {
     "name": "stdout",
     "output_type": "stream",
     "text": [
      "Wall time: 55 s\n",
      "train size: 63771751, Test size: 10408713\n"
     ]
    }
   ],
   "source": [
    "%time df = pd.read_csv('../data/train.csv')\n",
    "df_train = df[df.Semana < 9]\n",
    "df_test = df[df.Semana == 9]\n",
    "del df\n",
    "print('train size: %d, Test size: %d' % (len(df_train), len(df_test)))"
   ]
  },
  {
   "cell_type": "code",
   "execution_count": 3,
   "metadata": {
    "collapsed": false
   },
   "outputs": [],
   "source": [
    "FEATURE_COLUMNS = ['Agencia_ID', 'Canal_ID', 'Ruta_SAK', 'Cliente_ID', 'Producto_ID']\n",
    "OUTPUT_COLUMN = 'Demanda_uni_equil'\n",
    "X_train = df_train[FEATURE_COLUMNS]\n",
    "y_train = df_train[OUTPUT_COLUMN]"
   ]
  },
  {
   "cell_type": "markdown",
   "metadata": {},
   "source": [
    "## Mean solution"
   ]
  },
  {
   "cell_type": "code",
   "execution_count": 10,
   "metadata": {
    "collapsed": false
   },
   "outputs": [
    {
     "name": "stdout",
     "output_type": "stream",
     "text": [
      "RMSLE: 0.864640\n"
     ]
    }
   ],
   "source": [
    "predictions = np.full(len(df_test), y_train.median())\n",
    "print('RMSLE: %f' % rmsle(df_test[OUTPUT_COLUMN], predictions))"
   ]
  },
  {
   "cell_type": "code",
   "execution_count": 11,
   "metadata": {
    "collapsed": false
   },
   "outputs": [
    {
     "name": "stdout",
     "output_type": "stream",
     "text": [
      "RMSLE: 0.983407\n"
     ]
    }
   ],
   "source": [
    "predictions = np.full(len(df_test), y_train.mean())\n",
    "print('RMSLE: %f' % rmsle(df_test[OUTPUT_COLUMN], predictions))"
   ]
  },
  {
   "cell_type": "markdown",
   "metadata": {},
   "source": [
    "### Median by Agencia_ID"
   ]
  },
  {
   "cell_type": "code",
   "execution_count": 6,
   "metadata": {
    "collapsed": false
   },
   "outputs": [
    {
     "name": "stdout",
     "output_type": "stream",
     "text": [
      "RMSLE: 0.796566\n"
     ]
    }
   ],
   "source": [
    "mean = y_train.median()\n",
    "xs = df_train.groupby(['Agencia_ID'])[OUTPUT_COLUMN].median()\n",
    "predictions = df_test['Agencia_ID'].map(xs).fillna(mean)\n",
    "print('RMSLE: %f' % rmsle(df_test[OUTPUT_COLUMN], predictions))"
   ]
  },
  {
   "cell_type": "markdown",
   "metadata": {},
   "source": [
    "### Median by Canal_ID"
   ]
  },
  {
   "cell_type": "code",
   "execution_count": 7,
   "metadata": {
    "collapsed": false
   },
   "outputs": [
    {
     "name": "stdout",
     "output_type": "stream",
     "text": [
      "RMSLE: 0.798390\n"
     ]
    }
   ],
   "source": [
    "mean = y_train.median()\n",
    "xs = df_train.groupby(['Canal_ID'])[OUTPUT_COLUMN].median()\n",
    "predictions = df_test['Canal_ID'].map(xs).fillna(mean)\n",
    "print('RMSLE: %f' % rmsle(df_test[OUTPUT_COLUMN], predictions))"
   ]
  },
  {
   "cell_type": "markdown",
   "metadata": {},
   "source": [
    "## Median by Ruta_SAK"
   ]
  },
  {
   "cell_type": "code",
   "execution_count": 8,
   "metadata": {
    "collapsed": false
   },
   "outputs": [
    {
     "name": "stdout",
     "output_type": "stream",
     "text": [
      "RMSLE: 0.797138\n"
     ]
    }
   ],
   "source": [
    "mean = y_train.median()\n",
    "xs = df_train.groupby(['Ruta_SAK'])[OUTPUT_COLUMN].median()\n",
    "predictions = df_test['Ruta_SAK'].map(xs).fillna(mean)\n",
    "print('RMSLE: %f' % rmsle(df_test[OUTPUT_COLUMN], predictions))"
   ]
  },
  {
   "cell_type": "markdown",
   "metadata": {},
   "source": [
    "### Median by Cliente_ID"
   ]
  },
  {
   "cell_type": "code",
   "execution_count": 9,
   "metadata": {
    "collapsed": false
   },
   "outputs": [
    {
     "name": "stdout",
     "output_type": "stream",
     "text": [
      "RMSLE: 0.735369\n"
     ]
    }
   ],
   "source": [
    "mean = y_train.median()\n",
    "xs = df_train.groupby(['Cliente_ID'])[OUTPUT_COLUMN].median()\n",
    "predictions = df_test['Cliente_ID'].map(xs).fillna(mean)\n",
    "print('RMSLE: %f' % rmsle(df_test[OUTPUT_COLUMN], predictions))"
   ]
  },
  {
   "cell_type": "markdown",
   "metadata": {},
   "source": [
    "### Median by Producto_ID"
   ]
  },
  {
   "cell_type": "code",
   "execution_count": 17,
   "metadata": {
    "collapsed": false
   },
   "outputs": [
    {
     "name": "stdout",
     "output_type": "stream",
     "text": [
      "RMSLE: 0.692983\n"
     ]
    }
   ],
   "source": [
    "mean = y_train.median()\n",
    "xs = df_train.groupby(['Producto_ID'])[OUTPUT_COLUMN].median()\n",
    "predictions = df_test['Producto_ID'].map(xs).fillna(mean)\n",
    "print('RMSLE: %f' % rmsle(df_test[OUTPUT_COLUMN], predictions))"
   ]
  },
  {
   "cell_type": "markdown",
   "metadata": {},
   "source": [
    "### Median by product and client"
   ]
  },
  {
   "cell_type": "code",
   "execution_count": 13,
   "metadata": {
    "collapsed": false
   },
   "outputs": [],
   "source": [
    "# mean = y_train.median()\n",
    "# df_train.groupby(['Producto_ID', 'Cliente_ID'])[OUTPUT_COLUMN].median()\n",
    "# df_train[df_train['Cliente_ID'] == 681747 or][OUTPUT_COLUMN]"
   ]
  },
  {
   "cell_type": "markdown",
   "metadata": {},
   "source": [
    "## Random forest"
   ]
  },
  {
   "cell_type": "code",
   "execution_count": 5,
   "metadata": {
    "collapsed": false
   },
   "outputs": [
    {
     "name": "stdout",
     "output_type": "stream",
     "text": [
      "Wall time: 7min 27s\n",
      "RMSLE: 0.541440\n"
     ]
    }
   ],
   "source": [
    "FEATURE_COLUMNS = ['Cliente_ID', 'Producto_ID']\n",
    "model = DecisionTreeRegressor()\n",
    "%time model.fit(df_train[FEATURE_COLUMNS], y_train)\n",
    "predictions = model.predict(df_test[FEATURE_COLUMNS])\n",
    "print('RMSLE: %f' % rmsle(df_test[OUTPUT_COLUMN], predictions))"
   ]
  },
  {
   "cell_type": "markdown",
   "metadata": {},
   "source": [
    "## SVM"
   ]
  },
  {
   "cell_type": "code",
   "execution_count": null,
   "metadata": {
    "collapsed": true
   },
   "outputs": [],
   "source": [
    "svr = SVR(kernel='rbf', C=1e3, gamma=0.1)\n",
    "%time svr_model = svr.fit(df_train[FEATURE_COLUMNS], y_train)\n",
    "predictions = svr_model.predict(X)\n",
    "print('RMSLE: %f' % rmsle(df_test[OUTPUT_COLUMN], predictions))"
   ]
  }
 ],
 "metadata": {
  "anaconda-cloud": {},
  "kernelspec": {
   "display_name": "Python [Root]",
   "language": "python",
   "name": "Python [Root]"
  },
  "language_info": {
   "codemirror_mode": {
    "name": "ipython",
    "version": 3
   },
   "file_extension": ".py",
   "mimetype": "text/x-python",
   "name": "python",
   "nbconvert_exporter": "python",
   "pygments_lexer": "ipython3",
   "version": "3.5.1"
  }
 },
 "nbformat": 4,
 "nbformat_minor": 0
}
